{
  "nbformat": 4,
  "nbformat_minor": 0,
  "metadata": {
    "colab": {
      "provenance": [],
      "authorship_tag": "ABX9TyOU532OWgZ//r2bagZpr98M",
      "include_colab_link": true
    },
    "kernelspec": {
      "name": "python3",
      "display_name": "Python 3"
    },
    "language_info": {
      "name": "python"
    }
  },
  "cells": [
    {
      "cell_type": "markdown",
      "metadata": {
        "id": "view-in-github",
        "colab_type": "text"
      },
      "source": [
        "<a href=\"https://colab.research.google.com/github/Pranav-Bhatlapenumarthi/Implement/blob/main/Deep_Learning.ipynb\" target=\"_parent\"><img src=\"https://colab.research.google.com/assets/colab-badge.svg\" alt=\"Open In Colab\"/></a>"
      ]
    },
    {
      "cell_type": "code",
      "source": [
        "!pip list"
      ],
      "metadata": {
        "id": "XZYmAICEDHdZ"
      },
      "execution_count": null,
      "outputs": []
    },
    {
      "cell_type": "code",
      "source": [
        "import torch\n",
        "import numpy as np"
      ],
      "metadata": {
        "id": "Gz0Rl8-3DLoF"
      },
      "execution_count": 2,
      "outputs": []
    },
    {
      "cell_type": "markdown",
      "source": [
        "#Introduction to PyTorch Tensors"
      ],
      "metadata": {
        "id": "_k1KQAzNHo2G"
      }
    },
    {
      "cell_type": "code",
      "source": [
        "# a 2-D tensor\n",
        "tensor = torch.randn(3,4)*10\n",
        "tensor"
      ],
      "metadata": {
        "id": "4g7QQJkuD3En"
      },
      "execution_count": null,
      "outputs": []
    },
    {
      "cell_type": "code",
      "source": [
        "# a 4-D tensor\n",
        "tensor2 = torch.zeros(2,3,4,5)\n",
        "tensor2"
      ],
      "metadata": {
        "id": "yVnjzaqYEjIM"
      },
      "execution_count": null,
      "outputs": []
    },
    {
      "cell_type": "code",
      "source": [
        "# to initialise values is ascending order\n",
        "new = torch.arange(12)\n",
        "new"
      ],
      "metadata": {
        "id": "E8TZYKr5Evud"
      },
      "execution_count": null,
      "outputs": []
    },
    {
      "cell_type": "markdown",
      "source": [
        "**Important Note**\n",
        "\n",
        "\n",
        "*   Changes made in the original tensor will reflect in the new tensors after using reshape() or view().\n",
        "*   Slicing of tensors works exactly the same as slicing of lists\n",
        "\n",
        "\n"
      ],
      "metadata": {
        "id": "h8hVbs_4LX96"
      }
    },
    {
      "cell_type": "code",
      "source": [
        "# Reshape and View\n",
        "new = new.view(4,3)\n",
        "new\n",
        "\n",
        "# We can reshape if we don't know the number of values in the tensor using -1\n",
        "new2 = new.reshape(6,-1)\n",
        "new2\n",
        "new3 = new.reshape(-1, 6)\n",
        "new3"
      ],
      "metadata": {
        "id": "aauZ4tlpLnTs"
      },
      "execution_count": null,
      "outputs": []
    },
    {
      "cell_type": "code",
      "source": [
        "new2\n",
        "mytorch = new2[:,1] # to get the contents of only the second column as a new tensor\n",
        "mytorch"
      ],
      "metadata": {
        "id": "1fKpyBbDPINF"
      },
      "execution_count": null,
      "outputs": []
    },
    {
      "cell_type": "code",
      "source": [
        "new2[:,1:] # to get the contents of only the second column as columns as is"
      ],
      "metadata": {
        "id": "VDIvGpPfP65S"
      },
      "execution_count": null,
      "outputs": []
    },
    {
      "cell_type": "markdown",
      "source": [
        "Mathematical operations on Tensors"
      ],
      "metadata": {
        "id": "nMi_-UdAkHPI"
      }
    },
    {
      "cell_type": "code",
      "source": [
        "tensor_a = torch.tensor([2,3,4,5,6,7])\n",
        "tensor_b = torch.tensor([9,8,7,6,5,4])"
      ],
      "metadata": {
        "id": "2U5uCtJUQIQm"
      },
      "execution_count": 11,
      "outputs": []
    },
    {
      "cell_type": "code",
      "source": [
        "# Addition\n",
        "torch.add(tensor_a, tensor_b)\n",
        "# tensor_a.add(tensor_b) or tensor_a + tensor_b\n",
        "\n",
        "# Subtraction\n",
        "torch.sub(tensor_a, tensor_b)\n",
        "# tensor_b.sub(tensor_a) or tensor_b - tensor_a\n",
        "\n",
        "# Multiplication\n",
        "torch.mul(tensor_a, tensor_b)\n",
        "# torch.multiply(tensor_a, tensor_b) or tensor_a * tensor_b\n",
        "\n",
        "# Division\n",
        "torch.div(tensor_b, tensor_a)\n",
        "# tensor_a / tensor_b\n",
        "\n",
        "# Exponential\n",
        "torch.pow(tensor_a, tensor_b)\n",
        "# tensor_a ** tensor_b"
      ],
      "metadata": {
        "id": "FbJq0xscmGHW"
      },
      "execution_count": null,
      "outputs": []
    }
  ]
}