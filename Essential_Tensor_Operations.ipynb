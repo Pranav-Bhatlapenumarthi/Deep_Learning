{
  "nbformat": 4,
  "nbformat_minor": 0,
  "metadata": {
    "colab": {
      "provenance": [],
      "authorship_tag": "ABX9TyN/56PIE/VUj1b0ztdxs8Kx",
      "include_colab_link": true
    },
    "kernelspec": {
      "name": "python3",
      "display_name": "Python 3"
    },
    "language_info": {
      "name": "python"
    }
  },
  "cells": [
    {
      "cell_type": "markdown",
      "metadata": {
        "id": "view-in-github",
        "colab_type": "text"
      },
      "source": [
        "<a href=\"https://colab.research.google.com/github/Pranav-Bhatlapenumarthi/Implement/blob/main/Essential_Tensor_Operations.ipynb\" target=\"_parent\"><img src=\"https://colab.research.google.com/assets/colab-badge.svg\" alt=\"Open In Colab\"/></a>"
      ]
    },
    {
      "cell_type": "code",
      "source": [
        "!pip list"
      ],
      "metadata": {
        "id": "XZYmAICEDHdZ"
      },
      "execution_count": null,
      "outputs": []
    },
    {
      "cell_type": "code",
      "source": [
        "import torch\n",
        "import numpy as np"
      ],
      "metadata": {
        "id": "Gz0Rl8-3DLoF"
      },
      "execution_count": 3,
      "outputs": []
    },
    {
      "cell_type": "markdown",
      "source": [
        "#Introduction to PyTorch Tensors"
      ],
      "metadata": {
        "id": "_k1KQAzNHo2G"
      }
    },
    {
      "cell_type": "code",
      "source": [
        "# a 2-D tensor\n",
        "tensor = torch.randn(3,4)*10\n",
        "tensor"
      ],
      "metadata": {
        "id": "4g7QQJkuD3En"
      },
      "execution_count": null,
      "outputs": []
    },
    {
      "cell_type": "code",
      "source": [
        "# a 4-D tensor\n",
        "tensor2 = torch.zeros(2,3,4,5)\n",
        "tensor2"
      ],
      "metadata": {
        "id": "yVnjzaqYEjIM"
      },
      "execution_count": null,
      "outputs": []
    },
    {
      "cell_type": "code",
      "source": [
        "# to initialise values is ascending order\n",
        "new = torch.arange(12)\n",
        "new"
      ],
      "metadata": {
        "id": "E8TZYKr5Evud",
        "colab": {
          "base_uri": "https://localhost:8080/"
        },
        "outputId": "f1a9b8bd-e534-4f4d-99e4-b1375b469675"
      },
      "execution_count": 13,
      "outputs": [
        {
          "output_type": "execute_result",
          "data": {
            "text/plain": [
              "tensor([ 0,  1,  2,  3,  4,  5,  6,  7,  8,  9, 10, 11])"
            ]
          },
          "metadata": {},
          "execution_count": 13
        }
      ]
    },
    {
      "cell_type": "markdown",
      "source": [
        "**Important Note**\n",
        "\n",
        "\n",
        "*   Changes made in the original tensor will reflect in the new tensors after using reshape() or view().\n",
        "*   Slicing of tensors works exactly the same as slicing of lists\n",
        "\n",
        "\n"
      ],
      "metadata": {
        "id": "h8hVbs_4LX96"
      }
    },
    {
      "cell_type": "code",
      "source": [
        "# Reshape and View\n",
        "new = new.view(4,3)\n",
        "new\n",
        "\n",
        "# We can reshape if we don't know the number of values in the tensor using -1\n",
        "new2 = new.reshape(6,-1)\n",
        "new2\n",
        "new3 = new.reshape(-1, 6)\n",
        "new3"
      ],
      "metadata": {
        "id": "aauZ4tlpLnTs",
        "colab": {
          "base_uri": "https://localhost:8080/"
        },
        "outputId": "55069881-cda0-4148-8e30-4aab154f3570"
      },
      "execution_count": 14,
      "outputs": [
        {
          "output_type": "execute_result",
          "data": {
            "text/plain": [
              "tensor([[ 0,  1,  2,  3,  4,  5],\n",
              "        [ 6,  7,  8,  9, 10, 11]])"
            ]
          },
          "metadata": {},
          "execution_count": 14
        }
      ]
    },
    {
      "cell_type": "code",
      "source": [
        "new2\n",
        "mytorch = new2[:,1] # to get the contents of only the second column as a new tensor\n",
        "mytorch"
      ],
      "metadata": {
        "id": "1fKpyBbDPINF"
      },
      "execution_count": null,
      "outputs": []
    },
    {
      "cell_type": "code",
      "source": [
        "new2[:,1:] # to get the contents of only the second column as columns as is"
      ],
      "metadata": {
        "id": "VDIvGpPfP65S"
      },
      "execution_count": null,
      "outputs": []
    },
    {
      "cell_type": "markdown",
      "source": [
        "Mathematical operations on Tensors"
      ],
      "metadata": {
        "id": "nMi_-UdAkHPI"
      }
    },
    {
      "cell_type": "code",
      "source": [
        "tensor_a = torch.tensor([2,3,4,5,6,7])\n",
        "tensor_b = torch.tensor([9,8,7,6,5,4])"
      ],
      "metadata": {
        "id": "2U5uCtJUQIQm"
      },
      "execution_count": 5,
      "outputs": []
    },
    {
      "cell_type": "code",
      "source": [
        "# Addition\n",
        "torch.add(tensor_a, tensor_b)\n",
        "# tensor_a.add(tensor_b) or tensor_a + tensor_b\n",
        "\n",
        "# Subtraction\n",
        "torch.sub(tensor_a, tensor_b)\n",
        "# tensor_b.sub(tensor_a) or tensor_b - tensor_a\n",
        "\n",
        "# Multiplication\n",
        "torch.mul(tensor_a, tensor_b)\n",
        "# torch.multiply(tensor_a, tensor_b) or tensor_a * tensor_b\n",
        "\n",
        "# Division\n",
        "torch.div(tensor_b, tensor_a)\n",
        "# tensor_a / tensor_b\n",
        "\n",
        "# Exponential\n",
        "torch.pow(tensor_a, tensor_b)\n",
        "# tensor_a ** tensor_b"
      ],
      "metadata": {
        "id": "FbJq0xscmGHW"
      },
      "execution_count": null,
      "outputs": []
    },
    {
      "cell_type": "markdown",
      "source": [
        "In-place operations"
      ],
      "metadata": {
        "id": "KfNGhfZh1WTT"
      }
    },
    {
      "cell_type": "code",
      "source": [
        "tensor_a.add_(tensor_b) # Adds tensor_b to tensor_a\n",
        "print(tensor_a)\n",
        "tensor_b.mul_(3) # Multiplies 3 with all the elements fo tensor_b\n",
        "print(tensor_b)"
      ],
      "metadata": {
        "id": "nUH4BC3V08wP"
      },
      "execution_count": null,
      "outputs": []
    },
    {
      "cell_type": "markdown",
      "source": [
        "Other important operations"
      ],
      "metadata": {
        "id": "Kourtyvu1-ri"
      }
    },
    {
      "cell_type": "code",
      "source": [
        "torch.linspace(0,4,10) # [0.0000, 0.4444, 0.8889, 1.3333, 1.7778, 2.2222, 2.6667, 3.1111, 3.5556, 4.0000]\n",
        "torch.eye(4) # 4x4 identity matrix\n",
        "tensor_a.sum() # sum of all elements\n",
        "tensor_a.max() # maximum element in the tensor\n",
        "tensor_a.min() # minimum element in the tensor\n",
        "\n",
        "# mean() and std() require the elements of the tensor to be in floating-point representation\n",
        "tensor_a.float().mean() # mean of all elements\n",
        "tensor_a.float().std() # standard deviation of all elements"
      ],
      "metadata": {
        "id": "0avPihL81ZKA"
      },
      "execution_count": null,
      "outputs": []
    }
  ]
}