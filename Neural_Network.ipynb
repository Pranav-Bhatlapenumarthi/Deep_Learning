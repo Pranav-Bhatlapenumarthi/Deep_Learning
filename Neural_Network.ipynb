{
  "nbformat": 4,
  "nbformat_minor": 0,
  "metadata": {
    "colab": {
      "provenance": [],
      "authorship_tag": "ABX9TyNTJDuHPBtWN2S7VlNrnYoM",
      "include_colab_link": true
    },
    "kernelspec": {
      "name": "python3",
      "display_name": "Python 3"
    },
    "language_info": {
      "name": "python"
    }
  },
  "cells": [
    {
      "cell_type": "markdown",
      "metadata": {
        "id": "view-in-github",
        "colab_type": "text"
      },
      "source": [
        "<a href=\"https://colab.research.google.com/github/Pranav-Bhatlapenumarthi/Deep_Learning/blob/main/Neural_Network.ipynb\" target=\"_parent\"><img src=\"https://colab.research.google.com/assets/colab-badge.svg\" alt=\"Open In Colab\"/></a>"
      ]
    },
    {
      "cell_type": "code",
      "execution_count": 2,
      "metadata": {
        "id": "hja4N8qco6qX"
      },
      "outputs": [],
      "source": [
        "import torch\n",
        "import torch.nn as nn\n",
        "import torch.nn.functional as F"
      ]
    },
    {
      "cell_type": "markdown",
      "source": [
        "Creating Model Class that inherits nn.Module"
      ],
      "metadata": {
        "id": "3X0gFSvwDusV"
      }
    },
    {
      "cell_type": "code",
      "source": [
        "class Model(nn.Module):\n",
        "  '''\n",
        "  This neural network as 2 hidden layers. It uses the ReLU activation function for the hidden layers.\n",
        "  '''\n",
        "  def __init__(self, input_features = 4, layer1 = 8, layer2 = 9, output_features = 3):\n",
        "    super(Model, self).__init__() # Instantiates nn.Module\n",
        "    self.fc1 = nn.Linear(input_features, layer1)\n",
        "    self.fc2 = nn.Linear(layer1, layer2)\n",
        "    self.out = nn.Linear(layer2, output_features)\n",
        "\n",
        "  def forward(self, x):\n",
        "    x = F.relu(self.fc1(x))\n",
        "    x = F.relu(self.fc2(x))\n",
        "    x = self.out(x)\n",
        "\n",
        "    return x\n",
        "\n"
      ],
      "metadata": {
        "id": "8XmFT510N0dL"
      },
      "execution_count": 3,
      "outputs": []
    },
    {
      "cell_type": "code",
      "source": [
        "torch.manual_seed(20)\n",
        "model = Model()\n"
      ],
      "metadata": {
        "id": "D2mKFE5rDGEZ"
      },
      "execution_count": 6,
      "outputs": []
    },
    {
      "cell_type": "code",
      "source": [],
      "metadata": {
        "id": "vjZ7-4RvDZFC"
      },
      "execution_count": null,
      "outputs": []
    }
  ]
}